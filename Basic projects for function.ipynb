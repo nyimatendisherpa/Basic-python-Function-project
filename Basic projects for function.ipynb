{
 "cells": [
  {
   "cell_type": "markdown",
   "id": "d02fefef",
   "metadata": {},
   "source": [
    "Basic Calculator\n",
    "="
   ]
  },
  {
   "cell_type": "code",
   "execution_count": null,
   "id": "bb078466",
   "metadata": {},
   "outputs": [],
   "source": [
    "def add(a,b):\n",
    "    return a + b\n",
    "def subtract(a,b):\n",
    "    return a-b\n",
    "def multiply(a,b):\n",
    "    return a*b\n",
    "def devide(a,b):\n",
    "    return a/b\n",
    "\n",
    "num1=float(input(\"please enter number\"))\n",
    "num2=float(input(\"please enter number\"))\n",
    "operator=input(\"please enter operation(+,-,*,/):\")\n",
    "\n",
    "\n",
    "if operator== '+':\n",
    "    print(\"result\",add(num1+num2))\n",
    "elif operator=='-':\n",
    "    print(\"result\",subtract(num1-num2))\n",
    "elif operator=='*':\n",
    "          print(\"result\",multiply(num1*num2))\n",
    "elif operator=='/':\n",
    "    print(\"result\",devide(num1/num2))\n",
    "else:\n",
    "    print(\"Invalid\")"
   ]
  },
  {
   "cell_type": "markdown",
   "id": "b96501c4",
   "metadata": {},
   "source": [
    "Factorial calcluator\n",
    "--"
   ]
  },
  {
   "cell_type": "code",
   "execution_count": null,
   "id": "d6fe6ae4",
   "metadata": {},
   "outputs": [],
   "source": [
    "def factorial(n):\n",
    "    result=1\n",
    "    for i in range(1,n+1):\n",
    "        result *=i\n",
    "    return result\n",
    "user=int(input(\"please enter your number for checking factorial\"))\n",
    "factorial(user)"
   ]
  },
  {
   "cell_type": "markdown",
   "id": "da3652c0",
   "metadata": {},
   "source": [
    "Palindrome Number\n",
    "--"
   ]
  },
  {
   "cell_type": "code",
   "execution_count": null,
   "id": "b4919e9b",
   "metadata": {},
   "outputs": [],
   "source": [
    "def palindrome(num):\n",
    "    return num==num[::-1]\n",
    "user=input(\"please enter your number\")\n",
    "if palindrome(user):\n",
    "    print(\"is palindrome\")\n",
    "else:\n",
    "    print(\"is not palindrome\")"
   ]
  },
  {
   "cell_type": "markdown",
   "id": "34d3a71a",
   "metadata": {},
   "source": [
    "Prime Number Checker\n",
    "--"
   ]
  },
  {
   "cell_type": "code",
   "execution_count": null,
   "id": "3ef491f4",
   "metadata": {},
   "outputs": [],
   "source": [
    "def is_prime(n):\n",
    "    for i in range(2,(n ** 0.5)+1):\n",
    "        \n",
    "        if n%i==0:\n",
    "            return false\n",
    "        \n",
    "    return True\n",
    "number=int(input(\"please enter your number\"))\n",
    "\n",
    "\n",
    "if is_prime(number):\n",
    "    print(\"hhh\")\n",
    "\n",
    "else:\n",
    "    print(\"hsdhsd\")\n",
    "    "
   ]
  },
  {
   "cell_type": "markdown",
   "id": "3904a8ec",
   "metadata": {},
   "source": [
    "Temperature Counter\n",
    "--"
   ]
  },
  {
   "cell_type": "code",
   "execution_count": null,
   "id": "93e55f77",
   "metadata": {},
   "outputs": [],
   "source": [
    "def celsius_to_fahrenheit(celcius):\n",
    "    return (celsius*(9/5)+32)\n",
    "def fahrenheit_to_celsius(fahrenheit):\n",
    "    return (fahrenheit-32*5/9)\n",
    "temp=float(input(\"please enter Temperature \"))\n",
    "unit=input(\"please enter your unit\")\n",
    "if unit==\"c\":\n",
    "    print(\"{temp}= {celsius_to_fahrenheit(temp)})\n",
    "elif unit==\"f\":\n",
    "    print(\"{temp}= {fahrenheit_to_celsius(temp)}\")\n",
    "else:\n",
    "    print(\"invalid uit\")"
   ]
  }
 ],
 "metadata": {
  "kernelspec": {
   "display_name": "Python 3 (ipykernel)",
   "language": "python",
   "name": "python3"
  },
  "language_info": {
   "codemirror_mode": {
    "name": "ipython",
    "version": 3
   },
   "file_extension": ".py",
   "mimetype": "text/x-python",
   "name": "python",
   "nbconvert_exporter": "python",
   "pygments_lexer": "ipython3",
   "version": "3.10.12"
  }
 },
 "nbformat": 4,
 "nbformat_minor": 5
}
